{
 "cells": [
  {
   "cell_type": "code",
   "execution_count": null,
   "metadata": {
    "collapsed": true
   },
   "outputs": [],
   "source": [
    "import time\n",
    "from datetime import datetime as dt"
   ]
  },
  {
   "cell_type": "code",
   "execution_count": 2,
   "metadata": {
    "collapsed": false
   },
   "outputs": [],
   "source": [
    "hosts_path= r\"C:\\Windows\\System32\\drivers\\etc\\hosts\"\n",
    "redirect= \"127.0.0.1\"\n",
    "website_list= [ \"www.facebook.com\", \"facebook.com\", \"youtube.com\", \"www.youtube.com\"]\n",
    "final_list= [redirect + \" \" + i for i in website_list]\n",
    "final_string_block= \"\\n\".join(final_list)\n"
   ]
  },
  {
   "cell_type": "code",
   "execution_count": 3,
   "metadata": {
    "collapsed": false
   },
   "outputs": [
    {
     "data": {
      "text/plain": [
       "'127.0.0.1 www.facebook.com\\n127.0.0.1 facebook.com\\n127.0.0.1 youtube.com\\n127.0.0.1 www.youtube.com'"
      ]
     },
     "execution_count": 3,
     "metadata": {},
     "output_type": "execute_result"
    }
   ],
   "source": [
    "final_string_block"
   ]
  },
  {
   "cell_type": "code",
   "execution_count": null,
   "metadata": {
    "collapsed": false
   },
   "outputs": [
    {
     "name": "stdout",
     "output_type": "stream",
     "text": [
      "Within Time....\n",
      "Within Time....\n",
      "Within Time....\n",
      "Within Time....\n",
      "Within Time....\n",
      "Within Time....\n",
      "Within Time....\n",
      "Within Time....\n",
      "Within Time....\n",
      "Within Time....\n",
      "Within Time....\n",
      "Within Time....\n",
      "Within Time....\n",
      "Within Time....\n",
      "Within Time....\n",
      "Within Time....\n",
      "Within Time....\n",
      "Within Time....\n",
      "Within Time....\n",
      "Within Time....\n",
      "Within Time....\n",
      "Within Time....\n",
      "Within Time....\n",
      "Within Time....\n",
      "Within Time....\n",
      "Within Time....\n",
      "Within Time....\n",
      "Within Time....\n",
      "Within Time....\n",
      "Within Time....\n",
      "Within Time....\n",
      "Within Time....\n",
      "Within Time....\n",
      "Within Time....\n",
      "Within Time....\n",
      "Within Time....\n",
      "Within Time....\n",
      "Within Time....\n",
      "Within Time....\n",
      "Within Time....\n",
      "Within Time....\n",
      "Within Time....\n",
      "Within Time....\n",
      "Within Time....\n",
      "Within Time....\n",
      "Within Time....\n",
      "Within Time....\n",
      "Within Time....\n"
     ]
    }
   ],
   "source": [
    "while True:\n",
    "    if dt(dt.now().year, dt.now().month, dt.now().day,8) < dt.now() < dt(dt.now().year, dt.now().month, dt.now().day, 16):\n",
    "        print(\"Within Time....\")\n",
    "        with open(hosts_path, \"r+\") as file:\n",
    "            content= file.read()\n",
    "            for website in website_list:\n",
    "                if website in content:\n",
    "                    pass\n",
    "                else:\n",
    "                    file.write(redirect + \" \" + website + \"\\n\")\n",
    "    \n",
    "    else:\n",
    "        print(\"Break Time\")\n",
    "        with open(hosts_path, \"r+\") as file:\n",
    "            content= file.readlines()\n",
    "            file.seek(0)\n",
    "            for line in content:\n",
    "                if not any(website in line for website in website_list):\n",
    "                    file.write(line)\n",
    "                file.truncate()\n",
    "    time.sleep(5)"
   ]
  }
 ],
 "metadata": {
  "anaconda-cloud": {},
  "kernelspec": {
   "display_name": "Python [conda env:Anaconda3]",
   "language": "python",
   "name": "conda-env-Anaconda3-py"
  },
  "language_info": {
   "codemirror_mode": {
    "name": "ipython",
    "version": 3
   },
   "file_extension": ".py",
   "mimetype": "text/x-python",
   "name": "python",
   "nbconvert_exporter": "python",
   "pygments_lexer": "ipython3",
   "version": "3.5.2"
  }
 },
 "nbformat": 4,
 "nbformat_minor": 1
}
